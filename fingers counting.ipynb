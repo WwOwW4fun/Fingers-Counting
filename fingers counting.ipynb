{
 "cells": [
  {
   "cell_type": "code",
   "execution_count": 1,
   "metadata": {},
   "outputs": [],
   "source": [
    "import numpy as np\n",
    "import cv2\n",
    "from sklearn.metrics import pairwise"
   ]
  },
  {
   "cell_type": "code",
   "execution_count": 2,
   "metadata": {},
   "outputs": [],
   "source": [
    "background = None\n",
    "box_top = 80\n",
    "box_bottom = 300\n",
    "box_right = 350\n",
    "box_left = 550\n",
    "\n",
    "accumulated_weight = 0.5\n",
    "\n",
    "def calc_avg_wei(frame, accumulated_weight):\n",
    "    global background\n",
    "    if background is None:\n",
    "        background = frame.copy().astype(\"float\")\n",
    "        return None\n",
    "    cv2.accumulateWeighted(frame, background, accumulated_weight)"
   ]
  },
  {
   "cell_type": "code",
   "execution_count": 3,
   "metadata": {},
   "outputs": [],
   "source": [
    "def segment(frame, threshold = 25):\n",
    "    global background\n",
    "    diff = cv2.absdiff(background.astype(\"uint8\"),frame)\n",
    "    res, thresholded = cv2.threshold(diff, threshold, 255, cv2.THRESH_BINARY)\n",
    "    thresholded_temp = thresholded.copy()\n",
    "    img, contours, cor = cv2.findContours(thresholded_temp,cv2.RETR_EXTERNAL,cv2.CHAIN_APPROX_SIMPLE)\n",
    "    if len(contours) == 0: \n",
    "        return None\n",
    "    else:\n",
    "        hand_segment = max(contours, key = cv2.contourArea)\n",
    "        return (thresholded, hand_segment)"
   ]
  },
  {
   "cell_type": "code",
   "execution_count": 4,
   "metadata": {},
   "outputs": [],
   "source": [
    "def count_fingers(thresholded, hand_segment):\n",
    "    convex_hull = cv2.convexHull(hand_segment)\n",
    "    \n",
    "    top = tuple(convex_hull[convex_hull[:,:,1].argmin()][0])\n",
    "    bottom = tuple(convex_hull[convex_hull[:,:,1].argmax()][0])\n",
    "    right = tuple(convex_hull[convex_hull[:,:,0].argmin()][0])\n",
    "    left = tuple(convex_hull[convex_hull[:,:,0].argmax()][0])\n",
    "    \n",
    "    cy = (bottom[1] + top[1]) // 2\n",
    "    cx = (right[0] + left[0]) // 2\n",
    "    \n",
    "    distance = pairwise.euclidean_distances([(cx,cy)],Y = [left,right, top, bottom])[0]\n",
    "    \n",
    "    max_dis = distance.max()\n",
    "    \n",
    "    radius = int(max_dis*0.75)\n",
    "    \n",
    "    p = 2*np.pi*radius\n",
    "    \n",
    "    circular_roi = np.zeros(thresholded.shape[:2],dtype = 'uint8')\n",
    "    \n",
    "    cv2.circle(circular_roi,(cx,cy),radius,255,10)\n",
    "    \n",
    "    circular_roi = cv2.bitwise_and(thresholded,thresholded,mask = circular_roi)\n",
    "    \n",
    "    img, contours, cor = cv2.findContours(circular_roi.copy(),cv2.RETR_EXTERNAL,cv2.CHAIN_APPROX_NONE)\n",
    "    \n",
    "    count = 0\n",
    "     \n",
    "    for i in contours:\n",
    "        x,y,w,h = cv2.boundingRect(i)\n",
    "        not_wrist = (((cy*0.35) + cy) > (y + h))\n",
    "        not_noise = ((p*0.35) > i.shape[0])\n",
    "        if not_wrist and not_noise: \n",
    "            count += 1\n",
    "    \n",
    "    if(count > 5): \n",
    "        return 5\n",
    "    return count"
   ]
  },
  {
   "cell_type": "code",
   "execution_count": null,
   "metadata": {},
   "outputs": [],
   "source": [
    "cap = cv2.VideoCapture(0)\n",
    "cnt_frames = 0\n",
    "global accumulated_weight\n",
    "while True:\n",
    "    ret, frame = cap.read()\n",
    "    \n",
    "    frame = cv2.flip(frame,1)\n",
    "    \n",
    "    frame_copy = frame.copy()\n",
    "    \n",
    "    roi = frame[box_top : box_bottom, box_right : box_left]\n",
    "    \n",
    "    gray = cv2.cvtColor(roi,cv2.COLOR_BGR2GRAY)\n",
    "    gray = cv2.blur(gray,(15,15))\n",
    "    if cnt_frames < 60:\n",
    "        calc_avg_wei(gray,accumulated_weight)\n",
    "        if cnt_frames <= 59:\n",
    "            cv2.putText(frame_copy, 'Wait', (200,300),cv2.FONT_HERSHEY_SIMPLEX,1, (0,0,255),3)\n",
    "         \n",
    "    else: \n",
    "        hand_segment = segment(gray)\n",
    "        if hand_segment is not None:\n",
    "            threshold, hand = hand_segment\n",
    "            cv2.drawContours(frame_copy, [hand + (box_right,box_top)],-1,(255,0,0),1)\n",
    "            fingers = count_fingers(threshold, hand)\n",
    "            cv2.putText(frame_copy,str(fingers), (50,70), cv2.FONT_HERSHEY_COMPLEX, 1, (0,0,255),3)\n",
    "            cv2.imshow('fix', threshold)\n",
    "            \n",
    "    cv2.rectangle(frame_copy,(box_left,box_top),(box_right,box_bottom), (255,0,0), 5)\n",
    "    cnt_frames += 1\n",
    "    cv2.imshow(\"fingers\", frame_copy)\n",
    "    if cv2.waitKey(1) & 0xFF == 27:\n",
    "        break\n",
    "cap.release()\n",
    "cv2.destroyAllWindows() "
   ]
  },
  {
   "cell_type": "code",
   "execution_count": null,
   "metadata": {},
   "outputs": [],
   "source": []
  },
  {
   "cell_type": "code",
   "execution_count": null,
   "metadata": {},
   "outputs": [],
   "source": []
  },
  {
   "cell_type": "code",
   "execution_count": null,
   "metadata": {},
   "outputs": [],
   "source": []
  }
 ],
 "metadata": {
  "kernelspec": {
   "display_name": "Python 3",
   "language": "python",
   "name": "python3"
  },
  "language_info": {
   "codemirror_mode": {
    "name": "ipython",
    "version": 3
   },
   "file_extension": ".py",
   "mimetype": "text/x-python",
   "name": "python",
   "nbconvert_exporter": "python",
   "pygments_lexer": "ipython3",
   "version": "3.6.6"
  }
 },
 "nbformat": 4,
 "nbformat_minor": 2
}
